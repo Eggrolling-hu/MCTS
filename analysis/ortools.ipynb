{
 "cells": [
  {
   "cell_type": "code",
   "execution_count": 43,
   "metadata": {},
   "outputs": [],
   "source": [
    "from ortools.sat.python import cp_model\n",
    "import numpy as np"
   ]
  },
  {
   "cell_type": "code",
   "execution_count": 44,
   "metadata": {},
   "outputs": [],
   "source": [
    "model = cp_model.CpModel()"
   ]
  },
  {
   "cell_type": "code",
   "execution_count": 45,
   "metadata": {},
   "outputs": [],
   "source": [
    "vSlice = [\n",
    "    23, 18, 22, 82, 61, 32, 72, 90, 56, 80, 25\n",
    "]\n",
    "wSlice = [\n",
    "    93, 81, 12, 98, 33, 73, 46, 32, 78, 40, 98\n",
    "]\n",
    "capacity = 300\n",
    "\n",
    "# vSlice = [\n",
    "#     90000, 89750, 10001, 89500, 10252, 89250, 10503, 89000, 10754, 88750,\n",
    "#     11005, 88500, 11256, 88250, 11507, 88000, 11758, 87750, 12009, 87500,\n",
    "#     12260, 87250, 12511, 87000, 12762, 86750, 13013, 86500, 13264, 86250\n",
    "# ]\n",
    "# wSlice = [\n",
    "#     90001, 89751, 10002, 89501, 10254, 89251, 10506, 89001, 10758, 88751,\n",
    "#     11010, 88501, 11262, 88251, 11514, 88001, 11766, 87751, 12018, 87501,\n",
    "#     12270, 87251, 12522, 87001, 12774, 86751, 13026, 86501, 13278, 86251\n",
    "# ]\n",
    "# capacity = 100000\n",
    "\n",
    "varList = [\n",
    "    model.NewIntVar(0, 1, \"v{}\".format(i)) for i, _ in enumerate(vSlice)\n",
    "]"
   ]
  },
  {
   "cell_type": "code",
   "execution_count": 46,
   "metadata": {},
   "outputs": [
    {
     "data": {
      "text/plain": [
       "<ortools.sat.python.cp_model.Constraint at 0x7fef4931a190>"
      ]
     },
     "execution_count": 46,
     "metadata": {},
     "output_type": "execute_result"
    }
   ],
   "source": [
    "model.Add(np.dot(wSlice, varList) <= capacity)"
   ]
  },
  {
   "cell_type": "code",
   "execution_count": 47,
   "metadata": {},
   "outputs": [],
   "source": [
    "model.Maximize(np.dot(vSlice, varList))"
   ]
  },
  {
   "cell_type": "code",
   "execution_count": 48,
   "metadata": {},
   "outputs": [],
   "source": [
    "solver = cp_model.CpSolver()\n",
    "status = solver.Solve(model)"
   ]
  },
  {
   "cell_type": "code",
   "execution_count": 49,
   "metadata": {},
   "outputs": [
    {
     "name": "stdout",
     "output_type": "stream",
     "text": [
      "407.0\n",
      "[0, 0, 1, 1, 1, 0, 1, 1, 0, 1, 0]\n"
     ]
    }
   ],
   "source": [
    "if status in [cp_model.OPTIMAL, cp_model.FEASIBLE]:\n",
    "    print(solver.ObjectiveValue())\n",
    "    print([solver.Value(e) for e in varList])"
   ]
  }
 ],
 "metadata": {
  "interpreter": {
   "hash": "3a21fef93d547261afdcfcd255c658fc985212ce0048248157956cdf608bad7f"
  },
  "kernelspec": {
   "display_name": "Python 3.8.3 ('py38')",
   "language": "python",
   "name": "python3"
  },
  "language_info": {
   "codemirror_mode": {
    "name": "ipython",
    "version": 3
   },
   "file_extension": ".py",
   "mimetype": "text/x-python",
   "name": "python",
   "nbconvert_exporter": "python",
   "pygments_lexer": "ipython3",
   "version": "3.8.3"
  },
  "orig_nbformat": 4
 },
 "nbformat": 4,
 "nbformat_minor": 2
}
